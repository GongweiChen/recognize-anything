{
 "cells": [
  {
   "cell_type": "code",
   "execution_count": 1,
   "metadata": {},
   "outputs": [
    {
     "name": "stderr",
     "output_type": "stream",
     "text": [
      "/root/miniconda3/envs/gwc/lib/python3.8/site-packages/tqdm/auto.py:21: TqdmWarning: IProgress not found. Please update jupyter and ipywidgets. See https://ipywidgets.readthedocs.io/en/stable/user_install.html\n",
      "  from .autonotebook import tqdm as notebook_tqdm\n"
     ]
    }
   ],
   "source": [
    "import torch\n",
    "\n",
    "from PIL import Image\n",
    "from ram.models import ram\n",
    "from ram import inference_ram as inference\n",
    "from ram import get_transform"
   ]
  },
  {
   "cell_type": "code",
   "execution_count": 3,
   "metadata": {},
   "outputs": [],
   "source": [
    "device = torch.device('cuda:0')\n",
    "\n",
    "image_size = 384\n",
    "transform = get_transform(image_size=image_size)\n",
    "\n",
    "#######load model\n",
    "pretrained = \"/root/Models/recognize-anything/ram_swin_large_14m.pth\"\n",
    "model = ram(pretrained=pretrained,\n",
    "            image_size=image_size,\n",
    "            vit='swin_l')\n",
    "model.eval()\n",
    "\n",
    "model = model.to(device)\n",
    "\n",
    "image_path = '/root/gwc/recognize-anything/images/1641173_2291260800.jpg'\n",
    "image = transform(Image.open(image_path)).unsqueeze(0).to(device)\n",
    "\n",
    "res = inference(image, model)\n",
    "print(\"Image Tags: \", res[0])\n",
    "print(\"图像标签: \", res[1])"
   ]
  },
  {
   "cell_type": "code",
   "execution_count": null,
   "metadata": {},
   "outputs": [],
   "source": []
  }
 ],
 "metadata": {
  "kernelspec": {
   "display_name": "gwc",
   "language": "python",
   "name": "python3"
  },
  "language_info": {
   "codemirror_mode": {
    "name": "ipython",
    "version": 3
   },
   "file_extension": ".py",
   "mimetype": "text/x-python",
   "name": "python",
   "nbconvert_exporter": "python",
   "pygments_lexer": "ipython3",
   "version": "3.8.17"
  },
  "orig_nbformat": 4
 },
 "nbformat": 4,
 "nbformat_minor": 2
}
